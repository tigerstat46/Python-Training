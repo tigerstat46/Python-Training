{
 "cells": [
  {
   "cell_type": "markdown",
   "metadata": {},
   "source": [
    "## Basic Programming \n",
    "### Declare Variables and Print\n",
    "การเรียกใช้งานตัวแปรในภาษา Python เราไม่ต้องบอกการประกาศตัวแปร เช่น int a แต่เราสามารถเรียกใช้งานตัวแปรได้เลยโดยการใส่ค่าลงไปในตัวแปรและตัวภาษาจะทำการคิดเองว่าตัวแปรชนิดนี้เป็นประเภทอะไร"
   ]
  },
  {
   "cell_type": "code",
   "execution_count": 1,
   "metadata": {
    "collapsed": false
   },
   "outputs": [],
   "source": [
    "a = 2 \n",
    "b = \"Python Workshop\""
   ]
  },
  {
   "cell_type": "markdown",
   "metadata": {},
   "source": [
    "ฟังก์ชันที่ถือว่าใช้บ่อยที่สุดฟังก์ชันหนึ่งคือ ฟังก์ชัน print ซึ่งเป็นการโชว์ค่าที่เราต้องการแสดงออกมาทางหน้าจอ โดยในเซลล์ข้างล่างนี้จะทำการโชว์ชนิดของข้อมูลในตัวแปร a และ b โดยเราจะใช้คำสั่ง type"
   ]
  },
  {
   "cell_type": "code",
   "execution_count": 2,
   "metadata": {
    "collapsed": false
   },
   "outputs": [
    {
     "name": "stdout",
     "output_type": "stream",
     "text": [
      "Data type of a is  <class 'int'>\n",
      "Data type of b is  <class 'str'>\n"
     ]
    }
   ],
   "source": [
    "print(\"Data type of a is \", type(a))\n",
    "print(\"Data type of b is \", type(b))"
   ]
  },
  {
   "cell_type": "markdown",
   "metadata": {},
   "source": [
    "### Data type in Python base and Loop\n",
    "ชนิดของข้อมูลมีหลากหลายประเภท เช่น\n",
    "1. Int \n",
    "2. Float \n",
    "3. Complex with $j^2 = -1$ \n",
    "4. String\n",
    "5. List\n",
    "6. Tuples \n",
    "\n",
    "โดยประเภทของข้อมูลที่จะกล่าวถึงต่อไปนี้คือ List และ Tuples \n",
    "List เป็นชนิดข้อมูลที่เป็นลักษณะคล้ายเมตริกซ์ คือประกอบด้วยชุดข้อมูลที่เป็นตัวเลข ตัวอักษร หรือผสมกันก็ได้ โดยในการทำงานของ List นั้นเราไม่ต้องกำหนดขนาดของ List ล่วงหน้าแบบ Array ในภาษา C ส่วน Tuples คือ List ที่ไม่อนุญาติให้มีการแก้ไข"
   ]
  },
  {
   "cell_type": "code",
   "execution_count": 3,
   "metadata": {
    "collapsed": true
   },
   "outputs": [],
   "source": [
    "listA = [1,2,3,4,5]\n",
    "listB = [\"NFL\",\"NBA\",\"MLB\"]\n",
    "listC = [\"GSW\",73,9,\"Not NBA Champions\"]\n",
    "tuplesA = (1,2,3,4,5)"
   ]
  },
  {
   "cell_type": "markdown",
   "metadata": {},
   "source": [
    "คุณสมบัติที่สำคัญอีกอย่างหนึ่งคือ List และ Tuples นั้นสามารถเรียกดูข้อมูลได้ครั้งละตัวแบบในบรรทัดแรก หรือเรียกดูได้หลายตัวพร้อมกัน โดยเราเรียกคุณสมบัตินี้ว่า Slicing \n",
    "นอกจากนี้หวังว่าคุณผู้อ่านไม่ลืมว่า Python นับตำแหน่งแรกเป็น 0 นะครับ ไม่ใช่ 1"
   ]
  },
  {
   "cell_type": "code",
   "execution_count": 4,
   "metadata": {
    "collapsed": false
   },
   "outputs": [
    {
     "name": "stdout",
     "output_type": "stream",
     "text": [
      "73\n",
      "[1, 2, 3, 4]\n",
      "[1, 2, 3, 4]\n"
     ]
    }
   ],
   "source": [
    "print(listC[1])\n",
    "print(listA[0:4])\n",
    "print(listA[:4])"
   ]
  },
  {
   "cell_type": "markdown",
   "metadata": {},
   "source": [
    "การแก้ไขเราสามารถแก้ไขทีละตัวใน List โดยการบอกตำแหน่งที่ต้องการแก้ไขได้เลย แต่กับ Tuples ทำไม่ได้นะครับ"
   ]
  },
  {
   "cell_type": "code",
   "execution_count": 5,
   "metadata": {
    "collapsed": false
   },
   "outputs": [
    {
     "name": "stdout",
     "output_type": "stream",
     "text": [
      "['GSW', '73', '9', 'Not NBA Champions']\n"
     ]
    }
   ],
   "source": [
    "listC[1:3] = [\"73\",\"9\"]\n",
    "print(listC)"
   ]
  },
  {
   "cell_type": "code",
   "execution_count": 6,
   "metadata": {
    "collapsed": false,
    "scrolled": true
   },
   "outputs": [],
   "source": [
    "#tuplesA[:2] = (10,20) #Error"
   ]
  },
  {
   "cell_type": "markdown",
   "metadata": {},
   "source": [
    "การนำข้อมูลมาต่อกันใน List โดยเราสามารถใช้คำสั่ง .append() หรือใช้ List + List ก็ได้"
   ]
  },
  {
   "cell_type": "code",
   "execution_count": 7,
   "metadata": {
    "collapsed": false
   },
   "outputs": [
    {
     "name": "stdout",
     "output_type": "stream",
     "text": [
      "[1, 2, 3, 4, 5, 2, 2, 2, 2, 2]\n"
     ]
    }
   ],
   "source": [
    "print(listA + [2,2,2,2,2])"
   ]
  },
  {
   "cell_type": "markdown",
   "metadata": {
    "collapsed": true
   },
   "source": [
    "การสร้าง for loop ใน Python จะทำการสร้าง list เพื่อนำ list มาตัววน loop โดยมีคำสั่งที่สำคัญคือ"
   ]
  },
  {
   "cell_type": "code",
   "execution_count": 8,
   "metadata": {
    "collapsed": false
   },
   "outputs": [
    {
     "name": "stdout",
     "output_type": "stream",
     "text": [
      "[0, 1, 2, 3]\n",
      "[0, 1, 2, 3]\n",
      "[3]\n"
     ]
    }
   ],
   "source": [
    "print(list(range(0,4)))\n",
    "print(list(range(4)))\n",
    "print(list(range(3,4)))"
   ]
  },
  {
   "cell_type": "code",
   "execution_count": 9,
   "metadata": {
    "collapsed": false,
    "scrolled": true
   },
   "outputs": [
    {
     "name": "stdout",
     "output_type": "stream",
     "text": [
      "1\n",
      "2\n",
      "3\n",
      "4\n"
     ]
    }
   ],
   "source": [
    "for i in range(1,5):\n",
    "    print(i) "
   ]
  },
  {
   "cell_type": "markdown",
   "metadata": {},
   "source": [
    "นอกจากนี้เรายังสามารถนำ list ของคำมาเพื่อที่จะวน loop ได้"
   ]
  },
  {
   "cell_type": "code",
   "execution_count": 10,
   "metadata": {
    "collapsed": false,
    "scrolled": false
   },
   "outputs": [
    {
     "name": "stdout",
     "output_type": "stream",
     "text": [
      "GSW\n",
      "73\n",
      "9\n",
      "Not NBA Champions\n"
     ]
    }
   ],
   "source": [
    "for k in listC:\n",
    "    print(k)"
   ]
  },
  {
   "cell_type": "markdown",
   "metadata": {},
   "source": [
    "การสร้างฟังก์ชันใช้งานเอง"
   ]
  },
  {
   "cell_type": "code",
   "execution_count": 11,
   "metadata": {
    "collapsed": true
   },
   "outputs": [],
   "source": [
    "#Function and Lambda Function\n",
    "def plusone(x,y):\n",
    "    return x+1,y+1"
   ]
  },
  {
   "cell_type": "code",
   "execution_count": 12,
   "metadata": {
    "collapsed": false
   },
   "outputs": [],
   "source": [
    "tupleB = plusone(1,2)\n",
    "valueA, valueB = plusone(1,2)\n",
    "valueC, _ = plusone(1,2)"
   ]
  },
  {
   "cell_type": "code",
   "execution_count": 13,
   "metadata": {
    "collapsed": false,
    "scrolled": true
   },
   "outputs": [
    {
     "name": "stdout",
     "output_type": "stream",
     "text": [
      "(2, 3)\n",
      "2 3\n",
      "2\n"
     ]
    }
   ],
   "source": [
    "print(tupleB)\n",
    "print(valueA,valueB)\n",
    "print(valueC)"
   ]
  },
  {
   "cell_type": "markdown",
   "metadata": {},
   "source": [
    "การสร้างฟังก์ชันที่มีแค่การ Return ค่าอย่างเดียวหรือ Lambda function"
   ]
  },
  {
   "cell_type": "code",
   "execution_count": 14,
   "metadata": {
    "collapsed": false
   },
   "outputs": [],
   "source": [
    "plusonev2 = lambda x,y: [x+1,y+1]"
   ]
  },
  {
   "cell_type": "markdown",
   "metadata": {},
   "source": [
    "การประยุกต์ใช้ Loop และ Lambda Function ในการบวกตัวเลขเพิ่มทุกตัวใน listA อีก 2"
   ]
  },
  {
   "cell_type": "code",
   "execution_count": 15,
   "metadata": {
    "collapsed": false,
    "scrolled": true
   },
   "outputs": [
    {
     "name": "stdout",
     "output_type": "stream",
     "text": [
      "[3, 4, 5, 6, 7]\n"
     ]
    }
   ],
   "source": [
    "print([x+2 for x in listA])"
   ]
  },
  {
   "cell_type": "code",
   "execution_count": 16,
   "metadata": {
    "collapsed": false
   },
   "outputs": [
    {
     "name": "stdout",
     "output_type": "stream",
     "text": [
      "[3, 4, 5, 6, 7]\n"
     ]
    }
   ],
   "source": [
    "print(list(map(lambda x: x+2,listA)))"
   ]
  },
  {
   "cell_type": "markdown",
   "metadata": {},
   "source": [
    "การสร้าง If, Else if และ Else "
   ]
  },
  {
   "cell_type": "code",
   "execution_count": 17,
   "metadata": {
    "collapsed": false,
    "scrolled": true
   },
   "outputs": [
    {
     "name": "stdout",
     "output_type": "stream",
     "text": [
      "Positive\n"
     ]
    }
   ],
   "source": [
    "myvalues = 2 \n",
    "if myvalues > 0:\n",
    "    print(\"Positive\")\n",
    "elif myvalues < 0:\n",
    "    print (\"Negative\")\n",
    "else: print (\"Zero\")"
   ]
  },
  {
   "cell_type": "markdown",
   "metadata": {},
   "source": [
    "## Numpy Array\n",
    "เป็นแพจเกจที่ช่วยให้ทำงานด้านคณิตศาสตร์ได้่ง่ายขึ้น โดยจุดประสงค์ของแพคเกจนี้คือช่วยให้ทำงานด้านพีชคณิตเชิงเส้นได้ง่ายขึ้น โดยเราต้องการ import แพคเกจ Numpy เข้ามาเพื่อใช้งานคุณสมบัติด้านนี้"
   ]
  },
  {
   "cell_type": "code",
   "execution_count": 18,
   "metadata": {
    "collapsed": false
   },
   "outputs": [],
   "source": [
    "import numpy as np "
   ]
  },
  {
   "cell_type": "markdown",
   "metadata": {},
   "source": [
    "ใน Numpy จะมีข้อมูลลักษณะพิเศษอย่างหนึ่งคือ Numpy Array ซึ่งผู้ใช้สามารถเรียกใช้ฟังก์ชันนี้โดยผ่าน method array ใน class Numpy"
   ]
  },
  {
   "cell_type": "code",
   "execution_count": 19,
   "metadata": {
    "collapsed": false
   },
   "outputs": [],
   "source": [
    "array1 = np.array([2,8,-5,4,2])\n",
    "array2 = np.array(listB)"
   ]
  },
  {
   "cell_type": "markdown",
   "metadata": {},
   "source": [
    "นอกจากนี้เรายังสามารถตรวจสอบว่าเป็น Numpy Array ชนิดใดได้ด้วยคำสั่ง .dtype ซึ่งจะต่อท้ายอาร์เรย์ที่เราจะต้องการตรวจสอบ "
   ]
  },
  {
   "cell_type": "code",
   "execution_count": 20,
   "metadata": {
    "collapsed": false
   },
   "outputs": [
    {
     "name": "stdout",
     "output_type": "stream",
     "text": [
      "int64\n",
      "<U3\n"
     ]
    }
   ],
   "source": [
    "print(array1.dtype)\n",
    "print(array2.dtype)"
   ]
  },
  {
   "cell_type": "markdown",
   "metadata": {},
   "source": [
    "ใน Numpy Array มีคุณสมบัติพิเศษคือมีฟังก์ชันทางคณิตศาสต์ที่พร้อมใช้งานได้ทันทีทุกฟังก์ชัน โดยในตัวอย่างนี้จะแสดงการหาค่าเฉลี่ยของข้อมูลทั้งหมดโดยใช้ List และ Numpy Array โดยใน Numpy Array จะมีคำสั่ง .mean() เพื่อหาค่าเฉลี่ยของสมาชิก Array นั้น "
   ]
  },
  {
   "cell_type": "code",
   "execution_count": 21,
   "metadata": {
    "collapsed": true
   },
   "outputs": [],
   "source": [
    "list1 = [2,8,-5,4,2]"
   ]
  },
  {
   "cell_type": "markdown",
   "metadata": {},
   "source": [
    "%time ถือว่าเป็น magic command ใน IPython Shell และ Jupyter Notebook เพื่อหาระยะเวลาที่โปรแกรมทำงานในแต่ละ Cell โดยระยะเวลานั้นจะไม่คงที่ เนื่องจากขึ้นกับงานอื่นๆในคอมพิวเตอร์ด้วย เช่น เล่น Facebook เปิด Youtube และขึ้นกับหน่วยประมวลผลในคอมพิวเตอร์ด้วย"
   ]
  },
  {
   "cell_type": "code",
   "execution_count": 22,
   "metadata": {
    "collapsed": false
   },
   "outputs": [
    {
     "name": "stdout",
     "output_type": "stream",
     "text": [
      "CPU times: user 2 µs, sys: 1e+03 ns, total: 3 µs\n",
      "Wall time: 5.01 µs\n",
      "2.2\n"
     ]
    }
   ],
   "source": [
    "%time\n",
    "sums = 0\n",
    "for i in list1:\n",
    "    sums = sums + i\n",
    "print(sums/len(list1))"
   ]
  },
  {
   "cell_type": "code",
   "execution_count": 23,
   "metadata": {
    "collapsed": false,
    "scrolled": true
   },
   "outputs": [
    {
     "name": "stdout",
     "output_type": "stream",
     "text": [
      "CPU times: user 2 µs, sys: 1 µs, total: 3 µs\n",
      "Wall time: 5.96 µs\n",
      "2.2\n"
     ]
    }
   ],
   "source": [
    "%time\n",
    "print(array1.mean())"
   ]
  },
  {
   "cell_type": "code",
   "execution_count": 24,
   "metadata": {
    "collapsed": false
   },
   "outputs": [],
   "source": [
    "newlist = [x for x in range(10000)]"
   ]
  },
  {
   "cell_type": "code",
   "execution_count": 25,
   "metadata": {
    "collapsed": false
   },
   "outputs": [
    {
     "name": "stdout",
     "output_type": "stream",
     "text": [
      "CPU times: user 2 µs, sys: 0 ns, total: 2 µs\n",
      "Wall time: 5.01 µs\n",
      "4999.5\n"
     ]
    }
   ],
   "source": [
    "%time\n",
    "sums = 0\n",
    "for i in newlist:\n",
    "    sums = sums + i \n",
    "print(sums/len(newlist))"
   ]
  },
  {
   "cell_type": "code",
   "execution_count": 26,
   "metadata": {
    "collapsed": false
   },
   "outputs": [
    {
     "name": "stdout",
     "output_type": "stream",
     "text": [
      "CPU times: user 1e+03 ns, sys: 0 ns, total: 1e+03 ns\n",
      "Wall time: 5.01 µs\n",
      "4999.5\n"
     ]
    }
   ],
   "source": [
    "%time\n",
    "newarray = np.array(newlist)\n",
    "print(newarray.mean())"
   ]
  },
  {
   "cell_type": "markdown",
   "metadata": {},
   "source": [
    "ใน Numpy Array เราสามารถยังใช้คุณสมบัติ Slicing ของ List ได้"
   ]
  },
  {
   "cell_type": "code",
   "execution_count": 27,
   "metadata": {
    "collapsed": false
   },
   "outputs": [
    {
     "name": "stdout",
     "output_type": "stream",
     "text": [
      "[ 2  8 -5]\n"
     ]
    }
   ],
   "source": [
    "#Slicing same list\n",
    "print(array1[:3])"
   ]
  },
  {
   "cell_type": "markdown",
   "metadata": {},
   "source": [
    "ตัวอย่างการใช้คุณสมบัติ Slicing ใน 2D-Numpy Array"
   ]
  },
  {
   "cell_type": "code",
   "execution_count": 28,
   "metadata": {
    "collapsed": false,
    "scrolled": true
   },
   "outputs": [
    {
     "name": "stdout",
     "output_type": "stream",
     "text": [
      "[[ 1  2  3]\n",
      " [10 20 30]]\n",
      "(3, 3)\n"
     ]
    }
   ],
   "source": [
    "matrixA = np.array([[1,2,3],[10,20,30],[6,12,18]])\n",
    "print(matrixA[:2,:3])\n",
    "print(matrixA.shape)"
   ]
  },
  {
   "cell_type": "markdown",
   "metadata": {
    "collapsed": true
   },
   "source": [
    "เนื่องจากในแพคเกจ Matplotlib การแสดงรูปนั้นจะเกิดขึ้นก็ต่อเมื่อผู้ใช้ใช้ฟังก์ชัน show()เท่านั้น เราสามารถให้แพคเกจแสดงรูปจากการ plot ได้เลยโดยใช้ Magic Command"
   ]
  },
  {
   "cell_type": "code",
   "execution_count": 29,
   "metadata": {
    "collapsed": true
   },
   "outputs": [],
   "source": [
    "%matplotlib inline\n",
    "import matplotlib.pyplot as plt \n",
    "np.random.seed(123)\n",
    "arrayx = np.random.uniform(1,4,size = 1000)\n",
    "arrayy = 2*arrayx - 1 + np.random.normal(size = len(arrayx))"
   ]
  },
  {
   "cell_type": "code",
   "execution_count": 30,
   "metadata": {
    "collapsed": false,
    "scrolled": true
   },
   "outputs": [
    {
     "data": {
      "text/plain": [
       "<matplotlib.text.Text at 0x10d089f28>"
      ]
     },
     "execution_count": 30,
     "metadata": {},
     "output_type": "execute_result"
    },
    {
     "data": {
      "image/png": "[encoded data removed]",
      "text/plain": [
       "<matplotlib.figure.Figure at 0x109acf240>"
      ]
     },
     "metadata": {},
     "output_type": "display_data"
    }
   ],
   "source": [
    "plt.hist(arrayx,bins=10)\n",
    "plt.title(\"Histrogram of Uniform Distribution\")"
   ]
  },
  {
   "cell_type": "code",
   "execution_count": 31,
   "metadata": {
    "collapsed": false,
    "scrolled": true
   },
   "outputs": [
    {
     "data": {
      "text/plain": [
       "<matplotlib.text.Text at 0x10d6cb668>"
      ]
     },
     "execution_count": 31,
     "metadata": {},
     "output_type": "execute_result"
    },
    {
     "data": {
      "image/png": "[encoded data removed]",
      "text/plain": [
       "<matplotlib.figure.Figure at 0x10d0d2940>"
      ]
     },
     "metadata": {},
     "output_type": "display_data"
    }
   ],
   "source": [
    "plt.hist(arrayy,bins=10)\n",
    "plt.title(\"Histrogram of Y\")"
   ]
  },
  {
   "cell_type": "markdown",
   "metadata": {},
   "source": [
    "เนื่องจากเราต้องการดูแนวโน้มระหว่าง X และ Y โดยทำการ Plot จุดดูคร่าวๆ "
   ]
  },
  {
   "cell_type": "code",
   "execution_count": 32,
   "metadata": {
    "collapsed": false
   },
   "outputs": [
    {
     "data": {
      "text/plain": [
       "<matplotlib.text.Text at 0x10d8130f0>"
      ]
     },
     "execution_count": 32,
     "metadata": {},
     "output_type": "execute_result"
    },
    {
     "data": {
      "image/png": "[encoded data removed]",
      "text/plain": [
       "<matplotlib.figure.Figure at 0x10d6c2550>"
      ]
     },
     "metadata": {},
     "output_type": "display_data"
    }
   ],
   "source": [
    "plt.plot(arrayx,arrayy)\n",
    "plt.title(\"Wrong Plot\")"
   ]
  },
  {
   "cell_type": "code",
   "execution_count": 33,
   "metadata": {
    "collapsed": false,
    "scrolled": false
   },
   "outputs": [
    {
     "data": {
      "text/plain": [
       "<matplotlib.collections.PathCollection at 0x10de4a518>"
      ]
     },
     "execution_count": 33,
     "metadata": {},
     "output_type": "execute_result"
    },
    {
     "data": {
      "image/png": "[encoded data removed]",
      "text/plain": [
       "<matplotlib.figure.Figure at 0x10d80bc50>"
      ]
     },
     "metadata": {},
     "output_type": "display_data"
    }
   ],
   "source": [
    "plt.scatter(arrayx,arrayy)"
   ]
  },
  {
   "cell_type": "code",
   "execution_count": null,
   "metadata": {
    "collapsed": true
   },
   "outputs": [],
   "source": []
  }
 ],
 "metadata": {
  "anaconda-cloud": {},
  "kernelspec": {
   "display_name": "Python 3",
   "language": "python",
   "name": "python3"
  },
  "language_info": {
   "codemirror_mode": {
    "name": "ipython",
    "version": 3
   },
   "file_extension": ".py",
   "mimetype": "text/x-python",
   "name": "python",
   "nbconvert_exporter": "python",
   "pygments_lexer": "ipython3",
   "version": "3.6.0"
  }
 },
 "nbformat": 4,
 "nbformat_minor": 2
}
